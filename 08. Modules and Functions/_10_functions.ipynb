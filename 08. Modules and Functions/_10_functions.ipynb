{
 "metadata": {
  "language_info": {
   "codemirror_mode": {
    "name": "ipython",
    "version": 3
   },
   "file_extension": ".py",
   "mimetype": "text/x-python",
   "name": "python",
   "nbconvert_exporter": "python",
   "pygments_lexer": "ipython3",
   "version": "3.9.2"
  },
  "orig_nbformat": 2,
  "kernelspec": {
   "name": "python392jvsc74a57bd0aee8b7b246df8f9039afb4144a1f6fd8d2ca17a180786b69acc140d282b71a49",
   "display_name": "Python 3.9.2 64-bit"
  },
  "metadata": {
   "interpreter": {
    "hash": "aee8b7b246df8f9039afb4144a1f6fd8d2ca17a180786b69acc140d282b71a49"
   }
  }
 },
 "nbformat": 4,
 "nbformat_minor": 2,
 "cells": [
  {
   "cell_type": "code",
   "execution_count": 10,
   "metadata": {},
   "outputs": [
    {
     "output_type": "stream",
     "name": "stdout",
     "text": [
      "                                                                                         Spam and Eggs\n                                                                                    Spam, more Spam and Eggs\n"
     ]
    }
   ],
   "source": [
    "# a function with \"parameters\" will receive \"arguments\" when it is called, we shouldn't use those names interchangeably \n",
    "def centre_text(text):\n",
    "    left_margin = (190 - len(text)) // 2  # // to avoid float precision\n",
    "    print(' ' * left_margin, text)\n",
    "\n",
    "\n",
    "# IMPORTANT: the values we use to call a function with parameters are called arguments.\n",
    "centre_text('Spam and Eggs') \n",
    "centre_text('Spam, more Spam and Eggs')"
   ]
  },
  {
   "cell_type": "code",
   "execution_count": 19,
   "metadata": {},
   "outputs": [
    {
     "output_type": "stream",
     "name": "stdout",
     "text": [
      "                                                                                        Spam and Eggs\n                                                                                   Spam, more Spam and Eggs\n                                                                                              12\n"
     ]
    }
   ],
   "source": [
    "def centre_text(text='') -> str:\n",
    "    text = str(text)\n",
    "    left_margin = (190 - len(text)) // 2  # // to avoid float precision\n",
    "    res = ' ' * left_margin + text\n",
    "    return res\n",
    "\n",
    "answer = centre_text('Spam and Eggs')\n",
    "print(answer)\n",
    "answer = centre_text('Spam, more Spam and Eggs')\n",
    "print(answer)\n",
    "answer = centre_text(12)\n",
    "print(answer)"
   ]
  },
  {
   "cell_type": "code",
   "execution_count": 22,
   "metadata": {},
   "outputs": [
    {
     "output_type": "stream",
     "name": "stdout",
     "text": [
      "                                                                                     one two three four \n"
     ]
    }
   ],
   "source": [
    "def centre_text(*args) -> str:\n",
    "    text = ''\n",
    "    for arg in args:\n",
    "        text+= str(arg) + ' '\n",
    "    left_margin = (190 - len(text)) // 2  # // to avoid float precision\n",
    "    res = ' ' * left_margin + text\n",
    "    return res\n",
    "\n",
    "answer = centre_text('one', 'two', 'three', 'four')\n",
    "print(answer)"
   ]
  },
  {
   "cell_type": "code",
   "execution_count": 1,
   "metadata": {},
   "outputs": [
    {
     "output_type": "stream",
     "name": "stdout",
     "text": [
      "                                                                                      one two three four \n                                                                                      one:two:three:four:\n"
     ]
    }
   ],
   "source": [
    "# we are recreating the print function using functions parameters\n",
    "def centre_text(*args, sep=' ', end='\\n', file=None, flush=False) -> str:\n",
    "    text = ''\n",
    "    for arg in args:\n",
    "        text+= str(arg) + sep\n",
    "    left_margin = (190 - len(text)) // 2  # // to avoid float precision\n",
    "    print(' ' * left_margin, text, end=end, file=file, flush=flush)\n",
    "\n",
    "\n",
    "centre_text('one', 'two', 'three', 'four')\n",
    "centre_text('one', 'two', 'three', 'four', sep=':')"
   ]
  },
  {
   "cell_type": "code",
   "execution_count": 2,
   "metadata": {},
   "outputs": [],
   "source": [
    "# going to a file\n",
    "def centre_text(*args, sep=' ', end='\\n', file=None, flush=False) -> str:\n",
    "    text = ''\n",
    "    for arg in args:\n",
    "        text+= str(arg) + sep\n",
    "    left_margin = (190 - len(text)) // 2  # // to avoid float precision\n",
    "    print(' ' * left_margin, text, end=end, file=file, flush=flush)\n",
    "\n",
    "path = '/Users/emilianofrigo/Documents/git-repos/projects/Python-Course-Udemy/08. Modules and Functions/centred.txt'\n",
    "with open(path, mode='w') as centred_file:\n",
    "\n",
    "    centre_text('one', 'two', 'three', 'four', file=centred_file)\n",
    "    centre_text('one', 'two', 'three', 'four', sep=':', file=centred_file)"
   ]
  },
  {
   "cell_type": "code",
   "execution_count": 5,
   "metadata": {},
   "outputs": [
    {
     "output_type": "stream",
     "name": "stdout",
     "text": [
      "                                                                                     one two three four \n                                                                                     one:two:three:four:\n"
     ]
    }
   ],
   "source": [
    "# using return in the function\n",
    "def centre_text(*args, sep=' ') -> str:\n",
    "    text = ''\n",
    "    for arg in args:\n",
    "        text+= str(arg) + sep\n",
    "    left_margin = (190 - len(text)) // 2  # // to avoid float precision\n",
    "    return ' ' * left_margin + text\n",
    "\n",
    "s1 = centre_text('one', 'two', 'three', 'four')\n",
    "print(s1)\n",
    "s2 = centre_text('one', 'two', 'three', 'four', sep=':')\n",
    "print(s2)"
   ]
  },
  {
   "cell_type": "code",
   "execution_count": 7,
   "metadata": {},
   "outputs": [],
   "source": [
    "# using return in the function, and loading into file\n",
    "def centre_text(*args, sep=' ') -> str:\n",
    "    text = ''\n",
    "    for arg in args:\n",
    "        text+= str(arg) + sep\n",
    "    left_margin = (190 - len(text)) // 2  # // to avoid float precision\n",
    "    return ' ' * left_margin + text\n",
    "\n",
    "path = '/Users/emilianofrigo/Documents/git-repos/projects/Python-Course-Udemy/08. Modules and Functions/menu.txt'\n",
    "with open(path, 'w') as menu:\n",
    "    s1 = centre_text('one', 'two', 'three', 'four')\n",
    "    print(s1, file=menu)\n",
    "    s2 = centre_text('one', 'two', 'three', 'four', sep=':')\n",
    "    print(s2, file=menu)"
   ]
  },
  {
   "cell_type": "code",
   "execution_count": null,
   "metadata": {},
   "outputs": [],
   "source": []
  }
 ]
}