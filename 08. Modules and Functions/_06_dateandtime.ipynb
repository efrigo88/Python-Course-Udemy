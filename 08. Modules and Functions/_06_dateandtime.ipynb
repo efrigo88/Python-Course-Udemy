{
 "cells": [
  {
   "cell_type": "code",
   "execution_count": 1,
   "metadata": {},
   "outputs": [
    {
     "name": "stdout",
     "output_type": "stream",
     "text": [
      "The epoch on this systen starts at Thu Jan  1 00:00:00 1970\n",
      "The current timezone is -03 with an offset of 10800\n",
      "Local time is 2021-05-12 20:43:29\n",
      "UTC time is 2021-05-12 23:43:29\n"
     ]
    }
   ],
   "source": [
    "import time\n",
    "\n",
    "print('The epoch on this systen starts at {}'.format(time.strftime('%c', time.gmtime(0))))\n",
    "\n",
    "print(f'The current timezone is {time.tzname[0]} with an offset of {time.timezone}')\n",
    "\n",
    "if time.daylight != 0:\n",
    "    print('\\tDaylight saving time is in effect for this location')\n",
    "    print(f'\\tThe DST timezone is {time.tzname[1]}')\n",
    "\n",
    "print('Local time is {}'.format(time.strftime('%Y-%m-%d %H:%M:%S', time.localtime())))\n",
    "print('UTC time is {}'.format(time.strftime('%Y-%m-%d %H:%M:%S', time.gmtime())))"
   ]
  },
  {
   "cell_type": "code",
   "execution_count": 1,
   "metadata": {},
   "outputs": [
    {
     "output_type": "stream",
     "name": "stdout",
     "text": [
      "2021-05-18 20:55:43.946341\n2021-05-18 20:55:43.946534\n2021-05-18 23:55:43.947267\n"
     ]
    }
   ],
   "source": [
    "import datetime\n",
    "\n",
    "print(datetime.datetime.today())\n",
    "print(datetime.datetime.now())\n",
    "print(datetime.datetime.utcnow())\n"
   ]
  }
 ],
 "metadata": {
  "interpreter": {
   "hash": "aee8b7b246df8f9039afb4144a1f6fd8d2ca17a180786b69acc140d282b71a49"
  },
  "kernelspec": {
   "name": "python392jvsc74a57bd0aee8b7b246df8f9039afb4144a1f6fd8d2ca17a180786b69acc140d282b71a49",
   "display_name": "Python 3.9.2 64-bit"
  },
  "language_info": {
   "codemirror_mode": {
    "name": "ipython",
    "version": 3
   },
   "file_extension": ".py",
   "mimetype": "text/x-python",
   "name": "python",
   "nbconvert_exporter": "python",
   "pygments_lexer": "ipython3",
   "version": "3.9.2"
  },
  "orig_nbformat": 2,
  "metadata": {
   "interpreter": {
    "hash": "aee8b7b246df8f9039afb4144a1f6fd8d2ca17a180786b69acc140d282b71a49"
   }
  }
 },
 "nbformat": 4,
 "nbformat_minor": 2
}