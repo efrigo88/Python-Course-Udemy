{
 "metadata": {
  "language_info": {
   "codemirror_mode": {
    "name": "ipython",
    "version": 3
   },
   "file_extension": ".py",
   "mimetype": "text/x-python",
   "name": "python",
   "nbconvert_exporter": "python",
   "pygments_lexer": "ipython3",
   "version": "3.9.2"
  },
  "orig_nbformat": 4,
  "kernelspec": {
   "name": "python3",
   "display_name": "Python 3.9.2 64-bit"
  },
  "interpreter": {
   "hash": "aee8b7b246df8f9039afb4144a1f6fd8d2ca17a180786b69acc140d282b71a49"
  }
 },
 "nbformat": 4,
 "nbformat_minor": 2,
 "cells": [
  {
   "cell_type": "code",
   "execution_count": null,
   "metadata": {},
   "outputs": [],
   "source": [
    "def spam1():\n",
    "\n",
    "    def spam2():\n",
    "\n",
    "        def spam3():\n",
    "            z = '-((even more spam))-'\n",
    "            return z\n",
    "        \n",
    "        y = '-((more spam))-'\n",
    "        y += spam3()\n",
    "        return y\n",
    "    \n",
    "    x = '-((spam))-'\n",
    "    x += spam2()\n",
    "    return x"
   ]
  },
  {
   "cell_type": "code",
   "execution_count": null,
   "metadata": {},
   "outputs": [],
   "source": [
    "spam1()"
   ]
  },
  {
   "cell_type": "code",
   "execution_count": null,
   "metadata": {},
   "outputs": [],
   "source": [
    "def spam1():\n",
    "\n",
    "    def spam2():\n",
    "\n",
    "        def spam3():\n",
    "            z = '-((even more spam))-'\n",
    "            print(f'In spam3, locals are {locals()}')\n",
    "            return z\n",
    "        \n",
    "        y = '-((more spam))-'\n",
    "        y += spam3()\n",
    "        print(f'In spam2, locals are {locals()}')\n",
    "        return y\n",
    "    \n",
    "    x = '-((spam))-'\n",
    "    x += spam2()\n",
    "    print(f'In spam1, locals are {locals()}')\n",
    "\n",
    "    return x"
   ]
  },
  {
   "cell_type": "code",
   "execution_count": null,
   "metadata": {},
   "outputs": [],
   "source": [
    "spam1()"
   ]
  },
  {
   "cell_type": "code",
   "execution_count": null,
   "metadata": {},
   "outputs": [],
   "source": [
    "def spam1():\n",
    "\n",
    "    def spam2():\n",
    "\n",
    "        def spam3():\n",
    "            z = '-((even))-'\n",
    "            z += y\n",
    "            print(f'In spam3, locals are {locals()}')\n",
    "            return z\n",
    "        \n",
    "        y = '-((more))-'\n",
    "        y += x\n",
    "        y += spam3()\n",
    "        print(f'In spam2, locals are {locals()}')\n",
    "        return y\n",
    "    \n",
    "    x = '-((spam))-'\n",
    "    x += spam2()\n",
    "    print(f'In spam1, locals are {locals()}')\n",
    "\n",
    "    return x"
   ]
  },
  {
   "cell_type": "code",
   "execution_count": null,
   "metadata": {},
   "outputs": [],
   "source": [
    "spam1()"
   ]
  },
  {
   "cell_type": "code",
   "execution_count": null,
   "metadata": {},
   "outputs": [],
   "source": [
    "# CHALLENGE: What is going to happen? answer: the code crashes because of the assignment of var x\n",
    "def spam1():\n",
    "\n",
    "    def spam2():\n",
    "\n",
    "        def spam3():\n",
    "            z = '-((even))-'\n",
    "            z += y\n",
    "            print(f'In spam3, locals are {locals()}')\n",
    "            return z\n",
    "        \n",
    "        y = '-((more))-' + x\n",
    "        y += spam3()\n",
    "        print(f'In spam2, locals are {locals()}')\n",
    "        return y\n",
    "    \n",
    "    x = '-((spam))-' + spam2()\n",
    "    print(f'In spam1, locals are {locals()}')\n",
    "\n",
    "    return x"
   ]
  },
  {
   "cell_type": "code",
   "execution_count": null,
   "metadata": {},
   "outputs": [],
   "source": [
    "# SOLUTION\n",
    "def spam1():\n",
    "\n",
    "    def spam2():\n",
    "\n",
    "        def spam3():\n",
    "            z = '-((even))-'\n",
    "            z += y\n",
    "            print(f'In spam3, locals are {locals()}')\n",
    "            return z\n",
    "        \n",
    "        y = '-((more))-' + x  # must exist before spam3() is called\n",
    "        y += spam3()  # do not combine these assignments\n",
    "        print(f'In spam2, locals are {locals()}')\n",
    "        return y\n",
    "    \n",
    "    x = '-((spam))-'  # must exist before spam2() is called\n",
    "    x += spam2()  # do not combine these assignments\n",
    "    print(f'In spam1, locals are {locals()}')\n",
    "\n",
    "    return x"
   ]
  },
  {
   "cell_type": "code",
   "execution_count": null,
   "metadata": {},
   "outputs": [],
   "source": [
    "print(spam1())\n",
    "\n",
    "print()\n",
    "\n",
    "# globals and locals have the same objects\n",
    "for element in sorted(locals()):\n",
    "    print(element)\n",
    "print('\\n', len(locals()))\n",
    "\n",
    "print()\n",
    "\n",
    "for element in sorted(globals()):\n",
    "    print(element)\n",
    "print('\\n', len(globals()))\n"
   ]
  },
  {
   "cell_type": "code",
   "execution_count": null,
   "metadata": {},
   "outputs": [],
   "source": []
  }
 ]
}