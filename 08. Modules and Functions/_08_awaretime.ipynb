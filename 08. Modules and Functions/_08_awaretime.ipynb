{
 "metadata": {
  "language_info": {
   "codemirror_mode": {
    "name": "ipython",
    "version": 3
   },
   "file_extension": ".py",
   "mimetype": "text/x-python",
   "name": "python",
   "nbconvert_exporter": "python",
   "pygments_lexer": "ipython3",
   "version": "3.9.2"
  },
  "orig_nbformat": 2,
  "kernelspec": {
   "name": "python392jvsc74a57bd0aee8b7b246df8f9039afb4144a1f6fd8d2ca17a180786b69acc140d282b71a49",
   "display_name": "Python 3.9.2 64-bit"
  },
  "metadata": {
   "interpreter": {
    "hash": "aee8b7b246df8f9039afb4144a1f6fd8d2ca17a180786b69acc140d282b71a49"
   }
  }
 },
 "nbformat": 4,
 "nbformat_minor": 2,
 "cells": [
  {
   "cell_type": "code",
   "execution_count": 18,
   "metadata": {},
   "outputs": [
    {
     "output_type": "stream",
     "name": "stdout",
     "text": [
      "Naive local time: 2021-05-22 20:40:31.165526\nNaive UTC: 2021-05-22 23:40:31.165609\n"
     ]
    }
   ],
   "source": [
    "import datetime\n",
    "import pytz\n",
    "\n",
    "local_time = datetime.datetime.now()\n",
    "utc_time = datetime.datetime.utcnow()\n",
    "\n",
    "print(f'Naive local time: {local_time}')\n",
    "print(f'Naive UTC: {utc_time}')\n"
   ]
  },
  {
   "cell_type": "code",
   "execution_count": 17,
   "metadata": {},
   "outputs": [
    {
     "output_type": "stream",
     "name": "stdout",
     "text": [
      "Aware local time 2021-05-22 16:07:51.149035-03:00, time zone -03\nAware UTC time 2021-05-22 22:07:51.149077+00:00, time zone UTC\n"
     ]
    }
   ],
   "source": [
    "aware_local_time = pytz.utc.localize(local_time).astimezone()\n",
    "aware_utc_time = pytz.utc.localize(utc_time)\n",
    "\n",
    "print(f'Aware local time {aware_local_time}, time zone {aware_local_time.tzinfo}')\n",
    "print(f'Aware UTC time {aware_utc_time}, time zone {aware_utc_time.tzinfo}')\n"
   ]
  },
  {
   "cell_type": "code",
   "execution_count": 16,
   "metadata": {},
   "outputs": [
    {
     "output_type": "stream",
     "name": "stdout",
     "text": [
      "2015-10-25 01:30:00\n1445747400.0\n1445733000 seconds since the epoch is 2015-10-25 01:30:00+01:00\n1445736600 seconds since the epoch is 2015-10-25 01:30:00+00:00\n"
     ]
    }
   ],
   "source": [
    "gap_time = datetime.datetime(2015, 10, 25, 1, 30, 0, 0)\n",
    "print(gap_time)\n",
    "print(gap_time.timestamp())\n",
    "\n",
    "s = 1445733000\n",
    "t = s + (60 * 60)\n",
    "\n",
    "gb = pytz.timezone('GB')\n",
    "dt1 = pytz.utc.localize(datetime.datetime.utcfromtimestamp(s)).astimezone(gb)\n",
    "dt2 = pytz.utc.localize(datetime.datetime.utcfromtimestamp(t)).astimezone(gb)\n",
    "\n",
    "print(f'{s} seconds since the epoch is {dt1}')\n",
    "print(f'{t} seconds since the epoch is {dt2}')\n",
    "\n"
   ]
  },
  {
   "cell_type": "code",
   "execution_count": 3,
   "metadata": {},
   "outputs": [
    {
     "output_type": "stream",
     "name": "stdout",
     "text": [
      "2021-05-23 10:48:18.309799\n2021-05-23 10:48:00\n"
     ]
    }
   ],
   "source": [
    "# test - removing seconds\n",
    "import datetime\n",
    "\n",
    "the_time = datetime.datetime.now()\n",
    "print(the_time)\n",
    "the_time = the_time.replace(second=0, microsecond=0)\n",
    "print(the_time)\n"
   ]
  },
  {
   "cell_type": "code",
   "execution_count": null,
   "metadata": {},
   "outputs": [],
   "source": []
  }
 ]
}