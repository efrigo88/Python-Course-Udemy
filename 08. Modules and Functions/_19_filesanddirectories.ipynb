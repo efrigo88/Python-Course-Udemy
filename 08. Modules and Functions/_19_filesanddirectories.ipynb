{
 "metadata": {
  "language_info": {
   "codemirror_mode": {
    "name": "ipython",
    "version": 3
   },
   "file_extension": ".py",
   "mimetype": "text/x-python",
   "name": "python",
   "nbconvert_exporter": "python",
   "pygments_lexer": "ipython3",
   "version": "3.9.2"
  },
  "orig_nbformat": 4,
  "kernelspec": {
   "name": "python3",
   "display_name": "Python 3.9.2 64-bit"
  },
  "interpreter": {
   "hash": "aee8b7b246df8f9039afb4144a1f6fd8d2ca17a180786b69acc140d282b71a49"
  }
 },
 "nbformat": 4,
 "nbformat_minor": 2,
 "cells": [
  {
   "cell_type": "code",
   "execution_count": null,
   "metadata": {},
   "outputs": [],
   "source": [
    "import os"
   ]
  },
  {
   "cell_type": "code",
   "execution_count": null,
   "metadata": {},
   "outputs": [],
   "source": [
    "# method to navigate through directories, files  for a given starting point\n",
    "listing = os.walk('.')\n",
    "\n",
    "for root, directories, files in listing:\n",
    "    print(root, '\\n')\n",
    "    for d in sorted(directories):\n",
    "        print(directories, '\\n')\n",
    "    for f in sorted(files):\n",
    "        print(f)"
   ]
  },
  {
   "cell_type": "code",
   "execution_count": null,
   "metadata": {},
   "outputs": [],
   "source": [
    "# function with recursion to navigate recursively through directories and files adding proper indentation\n",
    "def list_directories(s):\n",
    "    \n",
    "    def dir_list(d):\n",
    "        # The nonlocal keyword is used to work with variables inside nested functions, where the variable should not belong to the inner function.\n",
    "        nonlocal tab_stop\n",
    "        files = os.listdir(d)\n",
    "        for f in sorted(files):\n",
    "            current_dir = os.path.join(d, f)\n",
    "            if os.path.isdir(current_dir):\n",
    "                print('\\t' * tab_stop + f'Directory: {f}')\n",
    "                tab_stop += 1\n",
    "                dir_list(current_dir)\n",
    "                tab_stop -= 1\n",
    "            else:\n",
    "                print('\\t' * tab_stop + f)\n",
    "    \n",
    "    tab_stop = 0\n",
    "    # check if the path exists, if so, execute nested function\n",
    "    if os.path.exists(s):\n",
    "        print(f'Directory listing of: {s}')\n",
    "        dir_list(s)\n",
    "    else:\n",
    "        print(f'{s} does not exist')"
   ]
  },
  {
   "cell_type": "code",
   "execution_count": null,
   "metadata": {},
   "outputs": [],
   "source": [
    "list_directories('.')"
   ]
  },
  {
   "cell_type": "code",
   "execution_count": null,
   "metadata": {},
   "outputs": [],
   "source": []
  }
 ]
}